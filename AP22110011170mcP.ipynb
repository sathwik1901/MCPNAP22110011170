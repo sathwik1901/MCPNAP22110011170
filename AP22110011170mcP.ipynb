{
  "nbformat": 4,
  "nbformat_minor": 0,
  "metadata": {
    "colab": {
      "provenance": []
    },
    "kernelspec": {
      "name": "python3",
      "display_name": "Python 3"
    },
    "language_info": {
      "name": "python"
    }
  },
  "cells": [
    {
      "cell_type": "code",
      "execution_count": 4,
      "metadata": {
        "colab": {
          "base_uri": "https://localhost:8080/"
        },
        "id": "ZAn2Ej4hOMns",
        "outputId": "e56ba084-fa78-4da8-f84b-1c85988b24fc"
      },
      "outputs": [
        {
          "output_type": "stream",
          "name": "stdout",
          "text": [
            "AND gate outputs:\n",
            "AND(0,0)=0\n",
            "AND(0,1)=0\n",
            "AND(1,0)=0\n",
            "AND(1,1)=1\n",
            "\n",
            "OR gate outputs:\n",
            "OR(0,0)=0\n",
            "OR(0,1)=1\n",
            "OR(1,0)=1\n",
            "OR(1,1)=1\n",
            "\n",
            "NOT gate outputs:\n",
            "NOT(0) = 1\n",
            "NOT(1) = 0\n",
            "\n",
            "NAND gate outputs:\n",
            "NAND(0, 0) = 1\n",
            "NAND(0, 1) = 1\n",
            "NAND(1, 0) = 1\n",
            "NAND(1, 1) = 0\n",
            "\n",
            "NOR gate outputs:\n",
            "NOR(0, 0) = 1\n",
            "NOR(0, 1) = 0\n",
            "NOR(1, 0) = 0\n",
            "NOR(1, 1) = 0\n",
            "\n",
            "XOR gate outputs:\n",
            "XOR(0, 0) = 0\n",
            "XOR(0, 1) = 1\n",
            "XOR(1, 0) = 1\n",
            "XOR(1, 1) = 0\n"
          ]
        }
      ],
      "source": [
        "def mcP(inputs, w, t):\n",
        "    act = sum(i * ww for i, ww in zip(inputs, w))\n",
        "    return 1 if act>=t else 0\n",
        "\n",
        "def AND(x1, x2):\n",
        "    return mcP([x1,x2],w=[1,1],t=2)\n",
        "def OR(x1, x2):\n",
        "    return mcP([x1,x2],w=[1,1],t=1)\n",
        "def NOT(x):\n",
        "    return mcP([x],w=[-1],t=0)\n",
        "def NAND(x1, x2):\n",
        "    return mcP([x1,x2],w=[-1,-1],t=-1)\n",
        "def NOR(x1, x2):\n",
        "    return mcP([x1,x2],w=[-1,-1],t=0)\n",
        "def XOR(x1, x2):\n",
        "    or_out=OR(x1,x2)\n",
        "    nand_out=NAND(x1, x2)\n",
        "    return AND(or_out,nand_out)\n",
        "print(\"AND gate outputs:\")\n",
        "for a, b in [(0,0),(0,1),(1,0),(1,1)]:\n",
        "    print(f\"AND({a},{b})={AND(a,b)}\")\n",
        "print(\"\\nOR gate outputs:\")\n",
        "for a, b in [(0,0),(0,1),(1,0),(1,1)]:\n",
        "    print(f\"OR({a},{b})={OR(a, b)}\")\n",
        "print(\"\\nNOT gate outputs:\")\n",
        "for a in [0, 1]:\n",
        "    print(f\"NOT({a}) = {NOT(a)}\")\n",
        "print(\"\\nNAND gate outputs:\")\n",
        "for a, b in [(0, 0), (0, 1), (1, 0), (1, 1)]:\n",
        "    print(f\"NAND({a}, {b}) = {NAND(a, b)}\")\n",
        "print(\"\\nNOR gate outputs:\")\n",
        "for a, b in [(0, 0), (0, 1), (1, 0), (1, 1)]:\n",
        "    print(f\"NOR({a}, {b}) = {NOR(a, b)}\")\n",
        "print(\"\\nXOR gate outputs:\")\n",
        "for a, b in [(0, 0), (0, 1), (1, 0), (1, 1)]:\n",
        "    print(f\"XOR({a}, {b}) = {XOR(a, b)}\")\n"
      ]
    }
  ]
}